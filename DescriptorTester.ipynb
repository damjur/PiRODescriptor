{
 "cells": [
  {
   "cell_type": "code",
   "execution_count": 1,
   "metadata": {},
   "outputs": [],
   "source": [
    "%matplotlib inline\n",
    "\n",
    "from bs4 import BeautifulSoup\n",
    "import urllib\n",
    "import cv2\n",
    "import matplotlib.pyplot as plt\n",
    "import numpy as np\n",
    "import pickle\n",
    "from tqdm import tqdm"
   ]
  },
  {
   "cell_type": "code",
   "execution_count": 12,
   "metadata": {},
   "outputs": [],
   "source": [
    "HOWMANY = 2\n",
    "MAX_PATCH_SIZE = 64\n",
    "N_POINTS = 10"
   ]
  },
  {
   "cell_type": "code",
   "execution_count": 41,
   "metadata": {},
   "outputs": [],
   "source": [
    "def generatePointsForOne(image):\n",
    "    print(image)\n",
    "    height,width = image.shape\n",
    "    height -= MAX_PATCH_SIZE/2\n",
    "    width -= MAX_PATCH_SIZE/2\n",
    "    print(MAX_PATCH_SIZE/2,height)\n",
    "    print(MAX_PATCH_SIZE/2,width)\n",
    "    ys = np.random.randint(MAX_PATCH_SIZE/2,height,size=(N_POINTS))\n",
    "    xs = np.random.randint(MAX_PATCH_SIZE/2,width,size=(N_POINTS))\n",
    "    return [np.dstack((ys,xs))[0]]\n",
    "\n",
    "def generatePoints(images):\n",
    "    points = []\n",
    "    for image in images:\n",
    "        points += generatePointsForOne(image)\n",
    "    return np.array(points)\n",
    "\n",
    "def getRotats(images,points):\n",
    "    pass\n",
    "\n",
    "def getScales(images,points):\n",
    "    pass\n",
    "\n",
    "def getBlures(images,points):\n",
    "    pass\n",
    "\n",
    "def getJpgeds(images,points):\n",
    "    pass\n",
    "\n",
    "def getTransformations(images,points):\n",
    "    x = {}\n",
    "    y = {}\n",
    "    x[\"rotat\"],y[\"rotat\"] = getRotats(images,points)\n",
    "    x[\"scale\"],y[\"scale\"] = getScales(images,points)\n",
    "    x[\"blure\"],y[\"blure\"] = getBlures(images,points)\n",
    "    x[\"jpged\"],y[\"jpged\"] = getJpgeds(images,points)\n",
    "    return x,y"
   ]
  },
  {
   "cell_type": "code",
   "execution_count": 42,
   "metadata": {},
   "outputs": [],
   "source": [
    "def loadImage(url):\n",
    "    raw = urllib.request.urlopen(url).read()\n",
    "    npraw= np.array(bytearray(raw),dtype=np.uint8)\n",
    "    return cv2.imdecode(npraw,-1)#-1 -> as is (with the alpha channel)\n",
    "\n",
    "def getImageName(url):\n",
    "    return url.split('/').pop().split('.').pop(0)\n",
    "\n",
    "def loadImagesFromSite(url):\n",
    "    imgs = []\n",
    "    with urllib.request.urlopen(url) as response:\n",
    "        html = BeautifulSoup(response.read(),\"lxml\")\n",
    "        for link in tqdm(html.find_all('a')[:HOWMANY]):\n",
    "            img = loadImage(link.get('href'))\n",
    "            imgs += [img]\n",
    "    return np.array(imgs)  \n",
    "\n",
    "def saveDataset(X,Y):\n",
    "    with open('pickledDataset','wb') as f:\n",
    "        pickle.dump({\"X\":X,\"Y\":Y},f)\n",
    "        \n",
    "def loadDataset():\n",
    "    try:\n",
    "        with open('pickledDataset','rb') as f:\n",
    "            d = pickle.load(f)\n",
    "        return d[\"X\"],d[\"Y\"]\n",
    "    except:\n",
    "        return None,None\n",
    "    \n",
    "def getDataset():\n",
    "    images,points = loadDataset()\n",
    "    if X is None and Y is None:\n",
    "        images = loadImagesFromSite(urlX)\n",
    "        points = generatePoints(images)\n",
    "        images,points = getTransformations(images,points)\n",
    "        \n",
    "        saveDataset(images,points)\n",
    "    return images,points\n",
    "    \n",
    "def display(X,Y,howmany=None):\n",
    "    if howmany is None:\n",
    "        howmany = X.shape[0]\n",
    "        \n",
    "    for i in range(howmany):\n",
    "        plt.figure()\n",
    "        plt.subplot(1,2,1)\n",
    "        plt.imshow(X[i])\n",
    "        plt.subplot(1,2,2)\n",
    "        plt.imshow(Y[i])\n",
    "        "
   ]
  },
  {
   "cell_type": "code",
   "execution_count": null,
   "metadata": {},
   "outputs": [],
   "source": [
    "if __name__ ==\"__main__\":\n",
    "    images,points = getDataset()\n",
    "    "
   ]
  }
 ],
 "metadata": {
  "kernelspec": {
   "display_name": "Python 3",
   "language": "python",
   "name": "python3"
  },
  "language_info": {
   "codemirror_mode": {
    "name": "ipython",
    "version": 3
   },
   "file_extension": ".py",
   "mimetype": "text/x-python",
   "name": "python",
   "nbconvert_exporter": "python",
   "pygments_lexer": "ipython3",
   "version": "3.6.3"
  }
 },
 "nbformat": 4,
 "nbformat_minor": 2
}
