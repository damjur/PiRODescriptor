{
 "cells": [
  {
   "cell_type": "code",
   "execution_count": 1,
   "metadata": {},
   "outputs": [],
   "source": [
    "%matplotlib inline\n",
    "import numpy as np\n",
    "import matplotlib.pyplot as plt\n",
    "import skimage.data as data\n",
    "import skimage.color as color\n",
    "from skimage.filters import gaussian, scharr\n",
    "from skimage.draw import circle,line\n",
    "from skimage.transform import resize"
   ]
  },
  {
   "cell_type": "code",
   "execution_count": 2,
   "metadata": {},
   "outputs": [],
   "source": [
    "def getCircle(image,radius):\n",
    "    mask = np.zeros(image.shape)\n",
    "    mask[circle(image.shape[0]/2,image.shape[1]/2,radius)] = 1\n",
    "    circled = image*mask\n",
    "    circled = circled[:,~np.all(circled==0,axis=0)]\n",
    "    circled = circled[~np.all(circled==0,axis=1),:]\n",
    "    return resize(circled,(64,64,3)),32\n",
    "\n",
    "def getPatch(image,center):\n",
    "    half_side = 32\n",
    "    return image[center[0]-half_side:center[0]+half_side,center[1]-half_side:center[1]+half_side]\n",
    "\n",
    "def getRadius(image):\n",
    "    r = 32\n",
    "    #TODO\n",
    "\n",
    "#     gradient0 = scharr(image[:,:,0])\n",
    "#     gradient1 = scharr(image[:,:,1])\n",
    "#     gradient2 = scharr(image[:,:,2])\n",
    "#     gradient = np.concatenate((gradient0.reshape((gradient0.shape + (1,))),gradient1.reshape((gradient1.shape + (1,))),gradient2.reshape((gradient2.shape + (1,)))),axis=2)\n",
    "\n",
    "    \n",
    "    return np.min([32,r])\n",
    "\n",
    "def getRadiallySymetricalPoints(k,radius):\n",
    "    #TODO poszukaj już przygotowanych punktów (np. pickle?) - nie można ciągle losować nowych; jeżeli k>zapamiętane - dolosować\n",
    "    \n",
    "    thetas = np.random.random(k)*2*np.pi\n",
    "    radii = np.random.random(k)\n",
    "    ys1 = radii * np.sin(thetas)\n",
    "    xs1 = radii * np.cos(thetas)\n",
    "    ys2 = radii * np.sin(np.pi + thetas)\n",
    "    xs2 = radii * np.cos(np.pi + thetas)\n",
    "    return (radius*np.dstack((ys1,xs1,ys2,xs2))[0]+radius).astype(np.int8)\n",
    "\n",
    "def binarizeImage(image,points):\n",
    "    return np.array([0 if image[y1,x1]<image[y2,x2] else 1 for y1,x1,y2,x2 in points])"
   ]
  },
  {
   "cell_type": "code",
   "execution_count": 4,
   "metadata": {},
   "outputs": [
    {
     "name": "stderr",
     "output_type": "stream",
     "text": [
      "C:\\Users\\jurgad\\Downloads\\WinPython-64bit-3.6.3.0Qt5\\python-3.6.3.amd64\\lib\\site-packages\\skimage\\filters\\_gaussian.py:108: RuntimeWarning: Images with dimensions (M, N, 3) are interpreted as 2D+RGB by default. Use `multichannel=False` to interpret as 3D image with last dimension of length 3.\n",
      "  warn(RuntimeWarning(msg))\n",
      "C:\\Users\\jurgad\\Downloads\\WinPython-64bit-3.6.3.0Qt5\\python-3.6.3.amd64\\lib\\site-packages\\skimage\\transform\\_warps.py:84: UserWarning: The default mode, 'constant', will be changed to 'reflect' in skimage 0.15.\n",
      "  warn(\"The default mode, 'constant', will be changed to 'reflect' in \"\n"
     ]
    },
    {
     "data": {
      "image/png": "[encoded data removed]",
      "text/plain": [
       "<matplotlib.figure.Figure at 0x18d3c8feba8>"
      ]
     },
     "metadata": {},
     "output_type": "display_data"
    },
    {
     "data": {
      "image/png": "[encoded data removed]",
      "text/plain": [
       "<matplotlib.figure.Figure at 0x18d3d9b3828>"
      ]
     },
     "metadata": {},
     "output_type": "display_data"
    },
    {
     "data": {
      "image/png": "[encoded data removed]",
      "text/plain": [
       "<matplotlib.figure.Figure at 0x18d3d9f3278>"
      ]
     },
     "metadata": {},
     "output_type": "display_data"
    }
   ],
   "source": [
    "def extractForKeypoint(image,keypoint):\n",
    "    k = 15\n",
    "    \n",
    "    patch = getPatch(image,keypoint)\n",
    "    radius = getRadius(patch)\n",
    "    \n",
    "    circled,radius = getCircle(patch,radius)\n",
    "    points = getRadiallySymetricalPoints(k,radius)\n",
    "#     for y1,x1,y2,x2 in points:\n",
    "#         circled[line(y1,x1,y2,x2)] = [1,1,1]\n",
    "#     print(points)\n",
    "    binary0 = binarizeImage(circled[:,:,0],points)\n",
    "    binary1 = binarizeImage(circled[:,:,1],points)\n",
    "    binary2 = binarizeImage(circled[:,:,2],points)\n",
    "    \n",
    "    #TODO\n",
    "    plt.figure()\n",
    "    plt.title(binary0)\n",
    "    plt.imshow(circled[:,:,0])\n",
    "    plt.figure()\n",
    "    plt.title(binary1)\n",
    "    plt.imshow(circled[:,:,1])\n",
    "    plt.figure()\n",
    "    plt.title(binary2)\n",
    "    plt.imshow(circled[:,:,2])\n",
    "    return\n",
    "\n",
    "def extract(image, keypoints):\n",
    "    blur_sigma = 3\n",
    "#     image = color.rgb2hsv(image)\n",
    "    \n",
    "    blurred = gaussian(image,sigma=blur_sigma)\n",
    "    blurred = (blurred - blurred.mean())/blurred.std()#normalizacja\n",
    "    blurred[blurred<=-3] = 0#usuwanie outlierów\n",
    "    blurred[blurred>=3] = 0\n",
    "    blurred = (blurred - blurred.min()) / (blurred.max() - blurred.min())#normalizacja taka, by można to było wyświetlić\n",
    "    \n",
    "    return [extractForKeypoint(blurred,keypoint) for keypoint in keypoints]\n",
    "    \n",
    "if __name__==\"__main__\":\n",
    "    image = data.astronaut()[:-1,:-1]\n",
    "    \n",
    "    extract(image,[[150,175]])\n",
    "    \n",
    "    "
   ]
  },
  {
   "cell_type": "code",
   "execution_count": 172,
   "metadata": {},
   "outputs": [
    {
     "name": "stdout",
     "output_type": "stream",
     "text": [
      "[0 1 0 1 1]\n",
      "[1 1 1 1 0]\n",
      "3\n",
      "[0 1 0 1 1]\n",
      "[0 1 1 1 1]\n",
      "1 3\n",
      "[0 1 0 1 1]\n",
      "[1 0 1 1 1]\n",
      "3 1\n",
      "[0 1 0 1 1]\n",
      "[1 1 0 1 1]\n",
      "1 1\n",
      "[0 1 0 1 1]\n",
      "[1 1 1 0 1]\n",
      "3 1\n",
      "[0 1 0 1 1]\n",
      "[1 1 1 1 0]\n",
      "3 1\n",
      "0.2\n"
     ]
    }
   ],
   "source": [
    "def distance(r1,r2):\n",
    "    print(r1)\n",
    "    print(r2)\n",
    "    return np.abs(r1-r2).sum()\n",
    "\n",
    "def compareTwoBinaryRings(r1,r2):\n",
    "    if len(r1)!=len(r2):\n",
    "        return np.inf\n",
    "    r_max = 0\n",
    "    d_max = distance(r1,r2)\n",
    "    print(d_max)\n",
    "    for r in range(1,len(r1) + 1):\n",
    "        d = distance(r1,np.roll(r2,r))\n",
    "        print(d,d_max)\n",
    "        if d<d_max:\n",
    "            d_max = d\n",
    "            r_max = r\n",
    "    return d_max/len(r1)\n",
    "\n",
    "print(compareTwoBinaryRings(np.array([0,1,0,1,1]),np.array([1,1,1,1,0])))"
   ]
  }
 ],
 "metadata": {
  "kernelspec": {
   "display_name": "Python 3",
   "language": "python",
   "name": "python3"
  },
  "language_info": {
   "codemirror_mode": {
    "name": "ipython",
    "version": 3
   },
   "file_extension": ".py",
   "mimetype": "text/x-python",
   "name": "python",
   "nbconvert_exporter": "python",
   "pygments_lexer": "ipython3",
   "version": "3.6.3"
  }
 },
 "nbformat": 4,
 "nbformat_minor": 2
}
